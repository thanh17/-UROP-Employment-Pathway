{
 "cells": [
  {
   "cell_type": "code",
   "execution_count": 1,
   "metadata": {},
   "outputs": [],
   "source": [
    "import pandas as pd\n",
    "import random as rnd \n",
    "import mysql.connector\n",
    "from mysql.connector import Error\n",
    "import plotly\n",
    "import json\n",
    "import csv\n",
    "import seaborn as sns\n",
    "import matplotlib.pyplot as plt\n",
    "import numpy as np\n",
    "import pymysql\n",
    "import plotly.express as px\n",
    "import plotly.graph_objects as go\n",
    "from sqlalchemy import create_engine\n",
    "import networkx as nx\n",
    "from networkx_viewer import Viewer\n",
    "from functools import reduce\n",
    "from scipy.spatial.distance import pdist, squareform\n"
   ]
  },
  {
   "cell_type": "markdown",
   "metadata": {},
   "source": [
    "# Age"
   ]
  },
  {
   "cell_type": "code",
   "execution_count": 243,
   "metadata": {
    "scrolled": false
   },
   "outputs": [
    {
     "data": {
      "text/html": [
       "<div>\n",
       "<style scoped>\n",
       "    .dataframe tbody tr th:only-of-type {\n",
       "        vertical-align: middle;\n",
       "    }\n",
       "\n",
       "    .dataframe tbody tr th {\n",
       "        vertical-align: top;\n",
       "    }\n",
       "\n",
       "    .dataframe thead th {\n",
       "        text-align: right;\n",
       "    }\n",
       "</style>\n",
       "<table border=\"1\" class=\"dataframe\">\n",
       "  <thead>\n",
       "    <tr style=\"text-align: right;\">\n",
       "      <th></th>\n",
       "      <th>Occupation</th>\n",
       "      <th>Total 16 years and over</th>\n",
       "      <th>16 to 19 years</th>\n",
       "      <th>20 to 24 years</th>\n",
       "      <th>25 to 34 years</th>\n",
       "      <th>35 to 44 years</th>\n",
       "      <th>45 to 54 years</th>\n",
       "      <th>55 to 64 years</th>\n",
       "      <th>65 years and over</th>\n",
       "      <th>Median age</th>\n",
       "    </tr>\n",
       "  </thead>\n",
       "  <tbody>\n",
       "    <tr>\n",
       "      <th>0</th>\n",
       "      <td>Total employed</td>\n",
       "      <td>157538.0</td>\n",
       "      <td>5150.0</td>\n",
       "      <td>14172.0</td>\n",
       "      <td>35807.0</td>\n",
       "      <td>33127.0</td>\n",
       "      <td>32042.0</td>\n",
       "      <td>26893.0</td>\n",
       "      <td>10347.0</td>\n",
       "      <td>42.3</td>\n",
       "    </tr>\n",
       "    <tr>\n",
       "      <th>1</th>\n",
       "      <td>Management, professional, and related occupations</td>\n",
       "      <td>64218.0</td>\n",
       "      <td>428.0</td>\n",
       "      <td>3402.0</td>\n",
       "      <td>15126.0</td>\n",
       "      <td>15133.0</td>\n",
       "      <td>14103.0</td>\n",
       "      <td>11360.0</td>\n",
       "      <td>4665.0</td>\n",
       "      <td>43.8</td>\n",
       "    </tr>\n",
       "    <tr>\n",
       "      <th>2</th>\n",
       "      <td>Management, business, and financial operations...</td>\n",
       "      <td>26981.0</td>\n",
       "      <td>82.0</td>\n",
       "      <td>969.0</td>\n",
       "      <td>5529.0</td>\n",
       "      <td>6330.0</td>\n",
       "      <td>6469.0</td>\n",
       "      <td>5394.0</td>\n",
       "      <td>2208.0</td>\n",
       "      <td>45.9</td>\n",
       "    </tr>\n",
       "    <tr>\n",
       "      <th>3</th>\n",
       "      <td>Management occupations</td>\n",
       "      <td>18985.0</td>\n",
       "      <td>62.0</td>\n",
       "      <td>536.0</td>\n",
       "      <td>3452.0</td>\n",
       "      <td>4524.0</td>\n",
       "      <td>4731.0</td>\n",
       "      <td>4024.0</td>\n",
       "      <td>1655.0</td>\n",
       "      <td>47</td>\n",
       "    </tr>\n",
       "    <tr>\n",
       "      <th>4</th>\n",
       "      <td>Chief executives</td>\n",
       "      <td>1602.0</td>\n",
       "      <td>2.0</td>\n",
       "      <td>5.0</td>\n",
       "      <td>121.0</td>\n",
       "      <td>329.0</td>\n",
       "      <td>461.0</td>\n",
       "      <td>465.0</td>\n",
       "      <td>219.0</td>\n",
       "      <td>52.7</td>\n",
       "    </tr>\n",
       "    <tr>\n",
       "      <th>...</th>\n",
       "      <td>...</td>\n",
       "      <td>...</td>\n",
       "      <td>...</td>\n",
       "      <td>...</td>\n",
       "      <td>...</td>\n",
       "      <td>...</td>\n",
       "      <td>...</td>\n",
       "      <td>...</td>\n",
       "      <td>...</td>\n",
       "      <td>...</td>\n",
       "    </tr>\n",
       "    <tr>\n",
       "      <th>564</th>\n",
       "      <td>Pumping station operators</td>\n",
       "      <td>16.0</td>\n",
       "      <td>0.0</td>\n",
       "      <td>2.0</td>\n",
       "      <td>3.0</td>\n",
       "      <td>4.0</td>\n",
       "      <td>5.0</td>\n",
       "      <td>2.0</td>\n",
       "      <td>0.0</td>\n",
       "      <td>–</td>\n",
       "    </tr>\n",
       "    <tr>\n",
       "      <th>565</th>\n",
       "      <td>Refuse and recyclable material collectors</td>\n",
       "      <td>99.0</td>\n",
       "      <td>4.0</td>\n",
       "      <td>14.0</td>\n",
       "      <td>29.0</td>\n",
       "      <td>14.0</td>\n",
       "      <td>21.0</td>\n",
       "      <td>14.0</td>\n",
       "      <td>5.0</td>\n",
       "      <td>38</td>\n",
       "    </tr>\n",
       "    <tr>\n",
       "      <th>566</th>\n",
       "      <td>Mine shuttle car operators</td>\n",
       "      <td>2.0</td>\n",
       "      <td>1.0</td>\n",
       "      <td>0.0</td>\n",
       "      <td>0.0</td>\n",
       "      <td>1.0</td>\n",
       "      <td>0.0</td>\n",
       "      <td>0.0</td>\n",
       "      <td>0.0</td>\n",
       "      <td>–</td>\n",
       "    </tr>\n",
       "    <tr>\n",
       "      <th>567</th>\n",
       "      <td>Tank car, truck, and ship loaders</td>\n",
       "      <td>6.0</td>\n",
       "      <td>0.0</td>\n",
       "      <td>2.0</td>\n",
       "      <td>1.0</td>\n",
       "      <td>1.0</td>\n",
       "      <td>0.0</td>\n",
       "      <td>1.0</td>\n",
       "      <td>0.0</td>\n",
       "      <td>–</td>\n",
       "    </tr>\n",
       "    <tr>\n",
       "      <th>568</th>\n",
       "      <td>Material moving workers, all other</td>\n",
       "      <td>41.0</td>\n",
       "      <td>0.0</td>\n",
       "      <td>8.0</td>\n",
       "      <td>11.0</td>\n",
       "      <td>6.0</td>\n",
       "      <td>8.0</td>\n",
       "      <td>6.0</td>\n",
       "      <td>2.0</td>\n",
       "      <td>–</td>\n",
       "    </tr>\n",
       "  </tbody>\n",
       "</table>\n",
       "<p>569 rows × 10 columns</p>\n",
       "</div>"
      ],
      "text/plain": [
       "                                            Occupation  \\\n",
       "0                                       Total employed   \n",
       "1    Management, professional, and related occupations   \n",
       "2    Management, business, and financial operations...   \n",
       "3                               Management occupations   \n",
       "4                                     Chief executives   \n",
       "..                                                 ...   \n",
       "564                          Pumping station operators   \n",
       "565          Refuse and recyclable material collectors   \n",
       "566                         Mine shuttle car operators   \n",
       "567                  Tank car, truck, and ship loaders   \n",
       "568                 Material moving workers, all other   \n",
       "\n",
       "     Total 16 years and over  16 to 19 years  20 to 24 years  25 to 34 years  \\\n",
       "0                   157538.0          5150.0         14172.0         35807.0   \n",
       "1                    64218.0           428.0          3402.0         15126.0   \n",
       "2                    26981.0            82.0           969.0          5529.0   \n",
       "3                    18985.0            62.0           536.0          3452.0   \n",
       "4                     1602.0             2.0             5.0           121.0   \n",
       "..                       ...             ...             ...             ...   \n",
       "564                     16.0             0.0             2.0             3.0   \n",
       "565                     99.0             4.0            14.0            29.0   \n",
       "566                      2.0             1.0             0.0             0.0   \n",
       "567                      6.0             0.0             2.0             1.0   \n",
       "568                     41.0             0.0             8.0            11.0   \n",
       "\n",
       "     35 to 44 years  45 to 54 years  55 to 64 years  65 years and over  \\\n",
       "0           33127.0         32042.0         26893.0            10347.0   \n",
       "1           15133.0         14103.0         11360.0             4665.0   \n",
       "2            6330.0          6469.0          5394.0             2208.0   \n",
       "3            4524.0          4731.0          4024.0             1655.0   \n",
       "4             329.0           461.0           465.0              219.0   \n",
       "..              ...             ...             ...                ...   \n",
       "564             4.0             5.0             2.0                0.0   \n",
       "565            14.0            21.0            14.0                5.0   \n",
       "566             1.0             0.0             0.0                0.0   \n",
       "567             1.0             0.0             1.0                0.0   \n",
       "568             6.0             8.0             6.0                2.0   \n",
       "\n",
       "    Median age  \n",
       "0         42.3  \n",
       "1         43.8  \n",
       "2         45.9  \n",
       "3           47  \n",
       "4         52.7  \n",
       "..         ...  \n",
       "564          –  \n",
       "565         38  \n",
       "566          –  \n",
       "567          –  \n",
       "568          –  \n",
       "\n",
       "[569 rows x 10 columns]"
      ]
     },
     "execution_count": 243,
     "metadata": {},
     "output_type": "execute_result"
    }
   ],
   "source": [
    "df_age = pd.read_csv('../ages.csv', thousands=',')\n",
    "df_test = df_age[df_age['Occupation'] == 'Management, professional, and related occupations']\n",
    "float(df_test['Median age'].any())\n",
    "# df_test=df_test.iloc[:,2:9]\n",
    "# df_test.columns[2:]\n",
    "# df_test.values\n",
    "# df_test.iloc[:,2:9]\n",
    "# df_age\n",
    "# df_test.values[0]\n",
    "df_age    "
   ]
  },
  {
   "cell_type": "code",
   "execution_count": 367,
   "metadata": {},
   "outputs": [],
   "source": [
    "def viz_age(df,occ):\n",
    "    '''\n",
    "    @param: df with all different ages \n",
    "    \n",
    "    Shows graph of ages breakdown\n",
    "    @return None\n",
    "    \n",
    "    '''\n",
    "    \n",
    "    df = df[df['Occupation'] == occ]\n",
    "    median = float(df['Median age'].any())\n",
    "    df = df.iloc[:,2:9]\n",
    "    data = go.Bar(x = df.columns, y = df.values[0],marker_color = '#003f5c')\n",
    "    \n",
    "    layout = None\n",
    "    fig = go.Figure(data = data, layout=layout)\n",
    "    fig.show()\n",
    "    return median"
   ]
  },
  {
   "cell_type": "code",
   "execution_count": 380,
   "metadata": {},
   "outputs": [],
   "source": [
    "def viz_age_bins(df,occ):\n",
    "    '''\n",
    "    @param: df with all different ages \n",
    "    \n",
    "    Shows graph of ages breakdown\n",
    "    @return None\n",
    "    \n",
    "    \n",
    "    '''\n",
    "    AGE_RANGE = [16,20,25,35,45,55,65]\n",
    "    WIDTH = [3,4,9,9,9,9,9]\n",
    "    \n",
    "    df = df[df['Occupation'] == occ]\n",
    "    median = float(df['Median age'].any())\n",
    "    df = df.iloc[:,2:9]\n",
    "\n",
    "    plt.bar(x = AGE_RANGE,height = df.values[0], width = WIDTH, color = '#003f5c') \n",
    "    plt.grid(axis='y', alpha=0.75)\n",
    "    plt.xlabel('Ages')\n",
    "    plt.ylabel('Frequency')\n",
    "    \n",
    "    plt.ylabel('Frequency')\n",
    "    plt.title('Ages and their frequencies',fontsize=15)\n",
    "    plt.axvline(x= median, color = 'r')\n",
    "    plt.show()\n",
    "    \n",
    "    return df.values[0]"
   ]
  },
  {
   "cell_type": "code",
   "execution_count": 381,
   "metadata": {
    "scrolled": true
   },
   "outputs": [
    {
     "data": {
      "image/png": "[encoded data removed]",
      "text/plain": [
       "<Figure size 432x288 with 1 Axes>"
      ]
     },
     "metadata": {
      "needs_background": "light"
     },
     "output_type": "display_data"
    },
    {
     "data": {
      "text/plain": [
       "array([  428.,  3402., 15126., 15133., 14103., 11360.,  4665.])"
      ]
     },
     "execution_count": 381,
     "metadata": {},
     "output_type": "execute_result"
    }
   ],
   "source": [
    "viz_age_bins(df_age,'Management, professional, and related occupations')"
   ]
  },
  {
   "cell_type": "code",
   "execution_count": 382,
   "metadata": {},
   "outputs": [
    {
     "data": {
      "application/vnd.plotly.v1+json": {
       "config": {
        "plotlyServerURL": "https://plot.ly"
       },
       "data": [
        {
         "marker": {
          "color": "#003f5c"
         },
         "type": "bar",
         "x": [
          "16 to 19 years",
          "20 to 24 years",
          "25 to 34 years",
          "35 to 44 years",
          "45 to 54 years",
          "55 to 64 years",
          "65 years and over"
         ],
         "y": [
          428,
          3402,
          15126,
          15133,
          14103,
          11360,
          4665
         ]
        }
       ],
       "layout": {
        "template": {
         "data": {
          "bar": [
           {
            "error_x": {
             "color": "#2a3f5f"
            },
            "error_y": {
             "color": "#2a3f5f"
            },
            "marker": {
             "line": {
              "color": "#E5ECF6",
              "width": 0.5
             }
            },
            "type": "bar"
           }
          ],
          "barpolar": [
           {
            "marker": {
             "line": {
              "color": "#E5ECF6",
              "width": 0.5
             }
            },
            "type": "barpolar"
           }
          ],
          "carpet": [
           {
            "aaxis": {
             "endlinecolor": "#2a3f5f",
             "gridcolor": "white",
             "linecolor": "white",
             "minorgridcolor": "white",
             "startlinecolor": "#2a3f5f"
            },
            "baxis": {
             "endlinecolor": "#2a3f5f",
             "gridcolor": "white",
             "linecolor": "white",
             "minorgridcolor": "white",
             "startlinecolor": "#2a3f5f"
            },
            "type": "carpet"
           }
          ],
          "choropleth": [
           {
            "colorbar": {
             "outlinewidth": 0,
             "ticks": ""
            },
            "type": "choropleth"
           }
          ],
          "contour": [
           {
            "colorbar": {
             "outlinewidth": 0,
             "ticks": ""
            },
            "colorscale": [
             [
              0,
              "#0d0887"
             ],
             [
              0.1111111111111111,
              "#46039f"
             ],
             [
              0.2222222222222222,
              "#7201a8"
             ],
             [
              0.3333333333333333,
              "#9c179e"
             ],
             [
              0.4444444444444444,
              "#bd3786"
             ],
             [
              0.5555555555555556,
              "#d8576b"
             ],
             [
              0.6666666666666666,
              "#ed7953"
             ],
             [
              0.7777777777777778,
              "#fb9f3a"
             ],
             [
              0.8888888888888888,
              "#fdca26"
             ],
             [
              1,
              "#f0f921"
             ]
            ],
            "type": "contour"
           }
          ],
          "contourcarpet": [
           {
            "colorbar": {
             "outlinewidth": 0,
             "ticks": ""
            },
            "type": "contourcarpet"
           }
          ],
          "heatmap": [
           {
            "colorbar": {
             "outlinewidth": 0,
             "ticks": ""
            },
            "colorscale": [
             [
              0,
              "#0d0887"
             ],
             [
              0.1111111111111111,
              "#46039f"
             ],
             [
              0.2222222222222222,
              "#7201a8"
             ],
             [
              0.3333333333333333,
              "#9c179e"
             ],
             [
              0.4444444444444444,
              "#bd3786"
             ],
             [
              0.5555555555555556,
              "#d8576b"
             ],
             [
              0.6666666666666666,
              "#ed7953"
             ],
             [
              0.7777777777777778,
              "#fb9f3a"
             ],
             [
              0.8888888888888888,
              "#fdca26"
             ],
             [
              1,
              "#f0f921"
             ]
            ],
            "type": "heatmap"
           }
          ],
          "heatmapgl": [
           {
            "colorbar": {
             "outlinewidth": 0,
             "ticks": ""
            },
            "colorscale": [
             [
              0,
              "#0d0887"
             ],
             [
              0.1111111111111111,
              "#46039f"
             ],
             [
              0.2222222222222222,
              "#7201a8"
             ],
             [
              0.3333333333333333,
              "#9c179e"
             ],
             [
              0.4444444444444444,
              "#bd3786"
             ],
             [
              0.5555555555555556,
              "#d8576b"
             ],
             [
              0.6666666666666666,
              "#ed7953"
             ],
             [
              0.7777777777777778,
              "#fb9f3a"
             ],
             [
              0.8888888888888888,
              "#fdca26"
             ],
             [
              1,
              "#f0f921"
             ]
            ],
            "type": "heatmapgl"
           }
          ],
          "histogram": [
           {
            "marker": {
             "colorbar": {
              "outlinewidth": 0,
              "ticks": ""
             }
            },
            "type": "histogram"
           }
          ],
          "histogram2d": [
           {
            "colorbar": {
             "outlinewidth": 0,
             "ticks": ""
            },
            "colorscale": [
             [
              0,
              "#0d0887"
             ],
             [
              0.1111111111111111,
              "#46039f"
             ],
             [
              0.2222222222222222,
              "#7201a8"
             ],
             [
              0.3333333333333333,
              "#9c179e"
             ],
             [
              0.4444444444444444,
              "#bd3786"
             ],
             [
              0.5555555555555556,
              "#d8576b"
             ],
             [
              0.6666666666666666,
              "#ed7953"
             ],
             [
              0.7777777777777778,
              "#fb9f3a"
             ],
             [
              0.8888888888888888,
              "#fdca26"
             ],
             [
              1,
              "#f0f921"
             ]
            ],
            "type": "histogram2d"
           }
          ],
          "histogram2dcontour": [
           {
            "colorbar": {
             "outlinewidth": 0,
             "ticks": ""
            },
            "colorscale": [
             [
              0,
              "#0d0887"
             ],
             [
              0.1111111111111111,
              "#46039f"
             ],
             [
              0.2222222222222222,
              "#7201a8"
             ],
             [
              0.3333333333333333,
              "#9c179e"
             ],
             [
              0.4444444444444444,
              "#bd3786"
             ],
             [
              0.5555555555555556,
              "#d8576b"
             ],
             [
              0.6666666666666666,
              "#ed7953"
             ],
             [
              0.7777777777777778,
              "#fb9f3a"
             ],
             [
              0.8888888888888888,
              "#fdca26"
             ],
             [
              1,
              "#f0f921"
             ]
            ],
            "type": "histogram2dcontour"
           }
          ],
          "mesh3d": [
           {
            "colorbar": {
             "outlinewidth": 0,
             "ticks": ""
            },
            "type": "mesh3d"
           }
          ],
          "parcoords": [
           {
            "line": {
             "colorbar": {
              "outlinewidth": 0,
              "ticks": ""
             }
            },
            "type": "parcoords"
           }
          ],
          "pie": [
           {
            "automargin": true,
            "type": "pie"
           }
          ],
          "scatter": [
           {
            "marker": {
             "colorbar": {
              "outlinewidth": 0,
              "ticks": ""
             }
            },
            "type": "scatter"
           }
          ],
          "scatter3d": [
           {
            "line": {
             "colorbar": {
              "outlinewidth": 0,
              "ticks": ""
             }
            },
            "marker": {
             "colorbar": {
              "outlinewidth": 0,
              "ticks": ""
             }
            },
            "type": "scatter3d"
           }
          ],
          "scattercarpet": [
           {
            "marker": {
             "colorbar": {
              "outlinewidth": 0,
              "ticks": ""
             }
            },
            "type": "scattercarpet"
           }
          ],
          "scattergeo": [
           {
            "marker": {
             "colorbar": {
              "outlinewidth": 0,
              "ticks": ""
             }
            },
            "type": "scattergeo"
           }
          ],
          "scattergl": [
           {
            "marker": {
             "colorbar": {
              "outlinewidth": 0,
              "ticks": ""
             }
            },
            "type": "scattergl"
           }
          ],
          "scattermapbox": [
           {
            "marker": {
             "colorbar": {
              "outlinewidth": 0,
              "ticks": ""
             }
            },
            "type": "scattermapbox"
           }
          ],
          "scatterpolar": [
           {
            "marker": {
             "colorbar": {
              "outlinewidth": 0,
              "ticks": ""
             }
            },
            "type": "scatterpolar"
           }
          ],
          "scatterpolargl": [
           {
            "marker": {
             "colorbar": {
              "outlinewidth": 0,
              "ticks": ""
             }
            },
            "type": "scatterpolargl"
           }
          ],
          "scatterternary": [
           {
            "marker": {
             "colorbar": {
              "outlinewidth": 0,
              "ticks": ""
             }
            },
            "type": "scatterternary"
           }
          ],
          "surface": [
           {
            "colorbar": {
             "outlinewidth": 0,
             "ticks": ""
            },
            "colorscale": [
             [
              0,
              "#0d0887"
             ],
             [
              0.1111111111111111,
              "#46039f"
             ],
             [
              0.2222222222222222,
              "#7201a8"
             ],
             [
              0.3333333333333333,
              "#9c179e"
             ],
             [
              0.4444444444444444,
              "#bd3786"
             ],
             [
              0.5555555555555556,
              "#d8576b"
             ],
             [
              0.6666666666666666,
              "#ed7953"
             ],
             [
              0.7777777777777778,
              "#fb9f3a"
             ],
             [
              0.8888888888888888,
              "#fdca26"
             ],
             [
              1,
              "#f0f921"
             ]
            ],
            "type": "surface"
           }
          ],
          "table": [
           {
            "cells": {
             "fill": {
              "color": "#EBF0F8"
             },
             "line": {
              "color": "white"
             }
            },
            "header": {
             "fill": {
              "color": "#C8D4E3"
             },
             "line": {
              "color": "white"
             }
            },
            "type": "table"
           }
          ]
         },
         "layout": {
          "annotationdefaults": {
           "arrowcolor": "#2a3f5f",
           "arrowhead": 0,
           "arrowwidth": 1
          },
          "coloraxis": {
           "colorbar": {
            "outlinewidth": 0,
            "ticks": ""
           }
          },
          "colorscale": {
           "diverging": [
            [
             0,
             "#8e0152"
            ],
            [
             0.1,
             "#c51b7d"
            ],
            [
             0.2,
             "#de77ae"
            ],
            [
             0.3,
             "#f1b6da"
            ],
            [
             0.4,
             "#fde0ef"
            ],
            [
             0.5,
             "#f7f7f7"
            ],
            [
             0.6,
             "#e6f5d0"
            ],
            [
             0.7,
             "#b8e186"
            ],
            [
             0.8,
             "#7fbc41"
            ],
            [
             0.9,
             "#4d9221"
            ],
            [
             1,
             "#276419"
            ]
           ],
           "sequential": [
            [
             0,
             "#0d0887"
            ],
            [
             0.1111111111111111,
             "#46039f"
            ],
            [
             0.2222222222222222,
             "#7201a8"
            ],
            [
             0.3333333333333333,
             "#9c179e"
            ],
            [
             0.4444444444444444,
             "#bd3786"
            ],
            [
             0.5555555555555556,
             "#d8576b"
            ],
            [
             0.6666666666666666,
             "#ed7953"
            ],
            [
             0.7777777777777778,
             "#fb9f3a"
            ],
            [
             0.8888888888888888,
             "#fdca26"
            ],
            [
             1,
             "#f0f921"
            ]
           ],
           "sequentialminus": [
            [
             0,
             "#0d0887"
            ],
            [
             0.1111111111111111,
             "#46039f"
            ],
            [
             0.2222222222222222,
             "#7201a8"
            ],
            [
             0.3333333333333333,
             "#9c179e"
            ],
            [
             0.4444444444444444,
             "#bd3786"
            ],
            [
             0.5555555555555556,
             "#d8576b"
            ],
            [
             0.6666666666666666,
             "#ed7953"
            ],
            [
             0.7777777777777778,
             "#fb9f3a"
            ],
            [
             0.8888888888888888,
             "#fdca26"
            ],
            [
             1,
             "#f0f921"
            ]
           ]
          },
          "colorway": [
           "#636efa",
           "#EF553B",
           "#00cc96",
           "#ab63fa",
           "#FFA15A",
           "#19d3f3",
           "#FF6692",
           "#B6E880",
           "#FF97FF",
           "#FECB52"
          ],
          "font": {
           "color": "#2a3f5f"
          },
          "geo": {
           "bgcolor": "white",
           "lakecolor": "white",
           "landcolor": "#E5ECF6",
           "showlakes": true,
           "showland": true,
           "subunitcolor": "white"
          },
          "hoverlabel": {
           "align": "left"
          },
          "hovermode": "closest",
          "mapbox": {
           "style": "light"
          },
          "paper_bgcolor": "white",
          "plot_bgcolor": "#E5ECF6",
          "polar": {
           "angularaxis": {
            "gridcolor": "white",
            "linecolor": "white",
            "ticks": ""
           },
           "bgcolor": "#E5ECF6",
           "radialaxis": {
            "gridcolor": "white",
            "linecolor": "white",
            "ticks": ""
           }
          },
          "scene": {
           "xaxis": {
            "backgroundcolor": "#E5ECF6",
            "gridcolor": "white",
            "gridwidth": 2,
            "linecolor": "white",
            "showbackground": true,
            "ticks": "",
            "zerolinecolor": "white"
           },
           "yaxis": {
            "backgroundcolor": "#E5ECF6",
            "gridcolor": "white",
            "gridwidth": 2,
            "linecolor": "white",
            "showbackground": true,
            "ticks": "",
            "zerolinecolor": "white"
           },
           "zaxis": {
            "backgroundcolor": "#E5ECF6",
            "gridcolor": "white",
            "gridwidth": 2,
            "linecolor": "white",
            "showbackground": true,
            "ticks": "",
            "zerolinecolor": "white"
           }
          },
          "shapedefaults": {
           "line": {
            "color": "#2a3f5f"
           }
          },
          "ternary": {
           "aaxis": {
            "gridcolor": "white",
            "linecolor": "white",
            "ticks": ""
           },
           "baxis": {
            "gridcolor": "white",
            "linecolor": "white",
            "ticks": ""
           },
           "bgcolor": "#E5ECF6",
           "caxis": {
            "gridcolor": "white",
            "linecolor": "white",
            "ticks": ""
           }
          },
          "title": {
           "x": 0.05
          },
          "xaxis": {
           "automargin": true,
           "gridcolor": "white",
           "linecolor": "white",
           "ticks": "",
           "title": {
            "standoff": 15
           },
           "zerolinecolor": "white",
           "zerolinewidth": 2
          },
          "yaxis": {
           "automargin": true,
           "gridcolor": "white",
           "linecolor": "white",
           "ticks": "",
           "title": {
            "standoff": 15
           },
           "zerolinecolor": "white",
           "zerolinewidth": 2
          }
         }
        }
       }
      },
      "text/html": [
       "<div>\n",
       "        \n",
       "        \n",
       "            <div id=\"536c3bb7-dd31-48b8-85b7-280ee62d9654\" class=\"plotly-graph-div\" style=\"height:525px; width:100%;\"></div>\n",
       "            <script type=\"text/javascript\">\n",
       "                require([\"plotly\"], function(Plotly) {\n",
       "                    window.PLOTLYENV=window.PLOTLYENV || {};\n",
       "                    \n",
       "                if (document.getElementById(\"536c3bb7-dd31-48b8-85b7-280ee62d9654\")) {\n",
       "                    Plotly.newPlot(\n",
       "                        '536c3bb7-dd31-48b8-85b7-280ee62d9654',\n",
       "                        [{\"marker\": {\"color\": \"#003f5c\"}, \"type\": \"bar\", \"x\": [\"16 to 19 years\", \"20 to 24 years\", \"25 to 34 years\", \"35 to 44 years\", \"45 to 54 years\", \"55 to 64 years\", \"65 years and over\"], \"y\": [428.0, 3402.0, 15126.0, 15133.0, 14103.0, 11360.0, 4665.0]}],\n",
       "                        {\"template\": {\"data\": {\"bar\": [{\"error_x\": {\"color\": \"#2a3f5f\"}, \"error_y\": {\"color\": \"#2a3f5f\"}, \"marker\": {\"line\": {\"color\": \"#E5ECF6\", \"width\": 0.5}}, \"type\": \"bar\"}], \"barpolar\": [{\"marker\": {\"line\": {\"color\": \"#E5ECF6\", \"width\": 0.5}}, \"type\": \"barpolar\"}], \"carpet\": [{\"aaxis\": {\"endlinecolor\": \"#2a3f5f\", \"gridcolor\": \"white\", \"linecolor\": \"white\", \"minorgridcolor\": \"white\", \"startlinecolor\": \"#2a3f5f\"}, \"baxis\": {\"endlinecolor\": \"#2a3f5f\", \"gridcolor\": \"white\", \"linecolor\": \"white\", \"minorgridcolor\": \"white\", \"startlinecolor\": \"#2a3f5f\"}, \"type\": \"carpet\"}], \"choropleth\": [{\"colorbar\": {\"outlinewidth\": 0, \"ticks\": \"\"}, \"type\": \"choropleth\"}], \"contour\": [{\"colorbar\": {\"outlinewidth\": 0, \"ticks\": \"\"}, \"colorscale\": [[0.0, \"#0d0887\"], [0.1111111111111111, \"#46039f\"], [0.2222222222222222, \"#7201a8\"], [0.3333333333333333, \"#9c179e\"], [0.4444444444444444, \"#bd3786\"], [0.5555555555555556, \"#d8576b\"], [0.6666666666666666, \"#ed7953\"], [0.7777777777777778, \"#fb9f3a\"], [0.8888888888888888, \"#fdca26\"], [1.0, \"#f0f921\"]], \"type\": \"contour\"}], \"contourcarpet\": [{\"colorbar\": {\"outlinewidth\": 0, \"ticks\": \"\"}, \"type\": \"contourcarpet\"}], \"heatmap\": [{\"colorbar\": {\"outlinewidth\": 0, \"ticks\": \"\"}, \"colorscale\": [[0.0, \"#0d0887\"], [0.1111111111111111, \"#46039f\"], [0.2222222222222222, \"#7201a8\"], [0.3333333333333333, \"#9c179e\"], [0.4444444444444444, \"#bd3786\"], [0.5555555555555556, \"#d8576b\"], [0.6666666666666666, \"#ed7953\"], [0.7777777777777778, \"#fb9f3a\"], [0.8888888888888888, \"#fdca26\"], [1.0, \"#f0f921\"]], \"type\": \"heatmap\"}], \"heatmapgl\": [{\"colorbar\": {\"outlinewidth\": 0, \"ticks\": \"\"}, \"colorscale\": [[0.0, \"#0d0887\"], [0.1111111111111111, \"#46039f\"], [0.2222222222222222, \"#7201a8\"], [0.3333333333333333, \"#9c179e\"], [0.4444444444444444, \"#bd3786\"], [0.5555555555555556, \"#d8576b\"], [0.6666666666666666, \"#ed7953\"], [0.7777777777777778, \"#fb9f3a\"], [0.8888888888888888, \"#fdca26\"], [1.0, \"#f0f921\"]], \"type\": \"heatmapgl\"}], \"histogram\": [{\"marker\": {\"colorbar\": {\"outlinewidth\": 0, \"ticks\": \"\"}}, \"type\": \"histogram\"}], \"histogram2d\": [{\"colorbar\": {\"outlinewidth\": 0, \"ticks\": \"\"}, \"colorscale\": [[0.0, \"#0d0887\"], [0.1111111111111111, \"#46039f\"], [0.2222222222222222, \"#7201a8\"], [0.3333333333333333, \"#9c179e\"], [0.4444444444444444, \"#bd3786\"], [0.5555555555555556, \"#d8576b\"], [0.6666666666666666, \"#ed7953\"], [0.7777777777777778, \"#fb9f3a\"], [0.8888888888888888, \"#fdca26\"], [1.0, \"#f0f921\"]], \"type\": \"histogram2d\"}], \"histogram2dcontour\": [{\"colorbar\": {\"outlinewidth\": 0, \"ticks\": \"\"}, \"colorscale\": [[0.0, \"#0d0887\"], [0.1111111111111111, \"#46039f\"], [0.2222222222222222, \"#7201a8\"], [0.3333333333333333, \"#9c179e\"], [0.4444444444444444, \"#bd3786\"], [0.5555555555555556, \"#d8576b\"], [0.6666666666666666, \"#ed7953\"], [0.7777777777777778, \"#fb9f3a\"], [0.8888888888888888, \"#fdca26\"], [1.0, \"#f0f921\"]], \"type\": \"histogram2dcontour\"}], \"mesh3d\": [{\"colorbar\": {\"outlinewidth\": 0, \"ticks\": \"\"}, \"type\": \"mesh3d\"}], \"parcoords\": [{\"line\": {\"colorbar\": {\"outlinewidth\": 0, \"ticks\": \"\"}}, \"type\": \"parcoords\"}], \"pie\": [{\"automargin\": true, \"type\": \"pie\"}], \"scatter\": [{\"marker\": {\"colorbar\": {\"outlinewidth\": 0, \"ticks\": \"\"}}, \"type\": \"scatter\"}], \"scatter3d\": [{\"line\": {\"colorbar\": {\"outlinewidth\": 0, \"ticks\": \"\"}}, \"marker\": {\"colorbar\": {\"outlinewidth\": 0, \"ticks\": \"\"}}, \"type\": \"scatter3d\"}], \"scattercarpet\": [{\"marker\": {\"colorbar\": {\"outlinewidth\": 0, \"ticks\": \"\"}}, \"type\": \"scattercarpet\"}], \"scattergeo\": [{\"marker\": {\"colorbar\": {\"outlinewidth\": 0, \"ticks\": \"\"}}, \"type\": \"scattergeo\"}], \"scattergl\": [{\"marker\": {\"colorbar\": {\"outlinewidth\": 0, \"ticks\": \"\"}}, \"type\": \"scattergl\"}], \"scattermapbox\": [{\"marker\": {\"colorbar\": {\"outlinewidth\": 0, \"ticks\": \"\"}}, \"type\": \"scattermapbox\"}], \"scatterpolar\": [{\"marker\": {\"colorbar\": {\"outlinewidth\": 0, \"ticks\": \"\"}}, \"type\": \"scatterpolar\"}], \"scatterpolargl\": [{\"marker\": {\"colorbar\": {\"outlinewidth\": 0, \"ticks\": \"\"}}, \"type\": \"scatterpolargl\"}], \"scatterternary\": [{\"marker\": {\"colorbar\": {\"outlinewidth\": 0, \"ticks\": \"\"}}, \"type\": \"scatterternary\"}], \"surface\": [{\"colorbar\": {\"outlinewidth\": 0, \"ticks\": \"\"}, \"colorscale\": [[0.0, \"#0d0887\"], [0.1111111111111111, \"#46039f\"], [0.2222222222222222, \"#7201a8\"], [0.3333333333333333, \"#9c179e\"], [0.4444444444444444, \"#bd3786\"], [0.5555555555555556, \"#d8576b\"], [0.6666666666666666, \"#ed7953\"], [0.7777777777777778, \"#fb9f3a\"], [0.8888888888888888, \"#fdca26\"], [1.0, \"#f0f921\"]], \"type\": \"surface\"}], \"table\": [{\"cells\": {\"fill\": {\"color\": \"#EBF0F8\"}, \"line\": {\"color\": \"white\"}}, \"header\": {\"fill\": {\"color\": \"#C8D4E3\"}, \"line\": {\"color\": \"white\"}}, \"type\": \"table\"}]}, \"layout\": {\"annotationdefaults\": {\"arrowcolor\": \"#2a3f5f\", \"arrowhead\": 0, \"arrowwidth\": 1}, \"coloraxis\": {\"colorbar\": {\"outlinewidth\": 0, \"ticks\": \"\"}}, \"colorscale\": {\"diverging\": [[0, \"#8e0152\"], [0.1, \"#c51b7d\"], [0.2, \"#de77ae\"], [0.3, \"#f1b6da\"], [0.4, \"#fde0ef\"], [0.5, \"#f7f7f7\"], [0.6, \"#e6f5d0\"], [0.7, \"#b8e186\"], [0.8, \"#7fbc41\"], [0.9, \"#4d9221\"], [1, \"#276419\"]], \"sequential\": [[0.0, \"#0d0887\"], [0.1111111111111111, \"#46039f\"], [0.2222222222222222, \"#7201a8\"], [0.3333333333333333, \"#9c179e\"], [0.4444444444444444, \"#bd3786\"], [0.5555555555555556, \"#d8576b\"], [0.6666666666666666, \"#ed7953\"], [0.7777777777777778, \"#fb9f3a\"], [0.8888888888888888, \"#fdca26\"], [1.0, \"#f0f921\"]], \"sequentialminus\": [[0.0, \"#0d0887\"], [0.1111111111111111, \"#46039f\"], [0.2222222222222222, \"#7201a8\"], [0.3333333333333333, \"#9c179e\"], [0.4444444444444444, \"#bd3786\"], [0.5555555555555556, \"#d8576b\"], [0.6666666666666666, \"#ed7953\"], [0.7777777777777778, \"#fb9f3a\"], [0.8888888888888888, \"#fdca26\"], [1.0, \"#f0f921\"]]}, \"colorway\": [\"#636efa\", \"#EF553B\", \"#00cc96\", \"#ab63fa\", \"#FFA15A\", \"#19d3f3\", \"#FF6692\", \"#B6E880\", \"#FF97FF\", \"#FECB52\"], \"font\": {\"color\": \"#2a3f5f\"}, \"geo\": {\"bgcolor\": \"white\", \"lakecolor\": \"white\", \"landcolor\": \"#E5ECF6\", \"showlakes\": true, \"showland\": true, \"subunitcolor\": \"white\"}, \"hoverlabel\": {\"align\": \"left\"}, \"hovermode\": \"closest\", \"mapbox\": {\"style\": \"light\"}, \"paper_bgcolor\": \"white\", \"plot_bgcolor\": \"#E5ECF6\", \"polar\": {\"angularaxis\": {\"gridcolor\": \"white\", \"linecolor\": \"white\", \"ticks\": \"\"}, \"bgcolor\": \"#E5ECF6\", \"radialaxis\": {\"gridcolor\": \"white\", \"linecolor\": \"white\", \"ticks\": \"\"}}, \"scene\": {\"xaxis\": {\"backgroundcolor\": \"#E5ECF6\", \"gridcolor\": \"white\", \"gridwidth\": 2, \"linecolor\": \"white\", \"showbackground\": true, \"ticks\": \"\", \"zerolinecolor\": \"white\"}, \"yaxis\": {\"backgroundcolor\": \"#E5ECF6\", \"gridcolor\": \"white\", \"gridwidth\": 2, \"linecolor\": \"white\", \"showbackground\": true, \"ticks\": \"\", \"zerolinecolor\": \"white\"}, \"zaxis\": {\"backgroundcolor\": \"#E5ECF6\", \"gridcolor\": \"white\", \"gridwidth\": 2, \"linecolor\": \"white\", \"showbackground\": true, \"ticks\": \"\", \"zerolinecolor\": \"white\"}}, \"shapedefaults\": {\"line\": {\"color\": \"#2a3f5f\"}}, \"ternary\": {\"aaxis\": {\"gridcolor\": \"white\", \"linecolor\": \"white\", \"ticks\": \"\"}, \"baxis\": {\"gridcolor\": \"white\", \"linecolor\": \"white\", \"ticks\": \"\"}, \"bgcolor\": \"#E5ECF6\", \"caxis\": {\"gridcolor\": \"white\", \"linecolor\": \"white\", \"ticks\": \"\"}}, \"title\": {\"x\": 0.05}, \"xaxis\": {\"automargin\": true, \"gridcolor\": \"white\", \"linecolor\": \"white\", \"ticks\": \"\", \"title\": {\"standoff\": 15}, \"zerolinecolor\": \"white\", \"zerolinewidth\": 2}, \"yaxis\": {\"automargin\": true, \"gridcolor\": \"white\", \"linecolor\": \"white\", \"ticks\": \"\", \"title\": {\"standoff\": 15}, \"zerolinecolor\": \"white\", \"zerolinewidth\": 2}}}},\n",
       "                        {\"responsive\": true}\n",
       "                    ).then(function(){\n",
       "                            \n",
       "var gd = document.getElementById('536c3bb7-dd31-48b8-85b7-280ee62d9654');\n",
       "var x = new MutationObserver(function (mutations, observer) {{\n",
       "        var display = window.getComputedStyle(gd).display;\n",
       "        if (!display || display === 'none') {{\n",
       "            console.log([gd, 'removed!']);\n",
       "            Plotly.purge(gd);\n",
       "            observer.disconnect();\n",
       "        }}\n",
       "}});\n",
       "\n",
       "// Listen for the removal of the full notebook cells\n",
       "var notebookContainer = gd.closest('#notebook-container');\n",
       "if (notebookContainer) {{\n",
       "    x.observe(notebookContainer, {childList: true});\n",
       "}}\n",
       "\n",
       "// Listen for the clearing of the current output cell\n",
       "var outputEl = gd.closest('.output');\n",
       "if (outputEl) {{\n",
       "    x.observe(outputEl, {childList: true});\n",
       "}}\n",
       "\n",
       "                        })\n",
       "                };\n",
       "                });\n",
       "            </script>\n",
       "        </div>"
      ]
     },
     "metadata": {},
     "output_type": "display_data"
    },
    {
     "data": {
      "text/plain": [
       "43.8"
      ]
     },
     "execution_count": 382,
     "metadata": {},
     "output_type": "execute_result"
    }
   ],
   "source": [
    "viz_age(df_age,'Management, professional, and related occupations')"
   ]
  },
  {
   "cell_type": "markdown",
   "metadata": {},
   "source": [
    "# Wages"
   ]
  },
  {
   "cell_type": "code",
   "execution_count": 14,
   "metadata": {},
   "outputs": [
    {
     "data": {
      "text/html": [
       "<div>\n",
       "<style scoped>\n",
       "    .dataframe tbody tr th:only-of-type {\n",
       "        vertical-align: middle;\n",
       "    }\n",
       "\n",
       "    .dataframe tbody tr th {\n",
       "        vertical-align: top;\n",
       "    }\n",
       "\n",
       "    .dataframe thead th {\n",
       "        text-align: right;\n",
       "    }\n",
       "</style>\n",
       "<table border=\"1\" class=\"dataframe\">\n",
       "  <thead>\n",
       "    <tr style=\"text-align: right;\">\n",
       "      <th></th>\n",
       "      <th>area</th>\n",
       "      <th>area_title</th>\n",
       "      <th>area_type</th>\n",
       "      <th>naics</th>\n",
       "      <th>naics_title</th>\n",
       "      <th>i_group</th>\n",
       "      <th>own_code</th>\n",
       "      <th>occ_code</th>\n",
       "      <th>occ_title</th>\n",
       "      <th>o_group</th>\n",
       "      <th>...</th>\n",
       "      <th>h_median</th>\n",
       "      <th>h_pct75</th>\n",
       "      <th>h_pct90</th>\n",
       "      <th>a_pct10</th>\n",
       "      <th>a_pct25</th>\n",
       "      <th>a_median</th>\n",
       "      <th>a_pct75</th>\n",
       "      <th>a_pct90</th>\n",
       "      <th>annual</th>\n",
       "      <th>hourly</th>\n",
       "    </tr>\n",
       "  </thead>\n",
       "  <tbody>\n",
       "    <tr>\n",
       "      <th>0</th>\n",
       "      <td>99</td>\n",
       "      <td>U.S.</td>\n",
       "      <td>1</td>\n",
       "      <td>0</td>\n",
       "      <td>Cross-industry</td>\n",
       "      <td>cross-industry</td>\n",
       "      <td>1235</td>\n",
       "      <td>00-0000</td>\n",
       "      <td>All Occupations</td>\n",
       "      <td>total</td>\n",
       "      <td>...</td>\n",
       "      <td>19.14</td>\n",
       "      <td>30.88</td>\n",
       "      <td>48.57</td>\n",
       "      <td>21,530</td>\n",
       "      <td>27,080</td>\n",
       "      <td>39,810</td>\n",
       "      <td>64,240</td>\n",
       "      <td>101,020</td>\n",
       "      <td>NaN</td>\n",
       "      <td>NaN</td>\n",
       "    </tr>\n",
       "    <tr>\n",
       "      <th>1</th>\n",
       "      <td>99</td>\n",
       "      <td>U.S.</td>\n",
       "      <td>1</td>\n",
       "      <td>0</td>\n",
       "      <td>Cross-industry</td>\n",
       "      <td>cross-industry</td>\n",
       "      <td>1235</td>\n",
       "      <td>11-0000</td>\n",
       "      <td>Management Occupations</td>\n",
       "      <td>major</td>\n",
       "      <td>...</td>\n",
       "      <td>50.80</td>\n",
       "      <td>74.16</td>\n",
       "      <td>#</td>\n",
       "      <td>49,990</td>\n",
       "      <td>71,460</td>\n",
       "      <td>105,660</td>\n",
       "      <td>154,260</td>\n",
       "      <td>#</td>\n",
       "      <td>NaN</td>\n",
       "      <td>NaN</td>\n",
       "    </tr>\n",
       "    <tr>\n",
       "      <th>2</th>\n",
       "      <td>99</td>\n",
       "      <td>U.S.</td>\n",
       "      <td>1</td>\n",
       "      <td>0</td>\n",
       "      <td>Cross-industry</td>\n",
       "      <td>cross-industry</td>\n",
       "      <td>1235</td>\n",
       "      <td>11-1000</td>\n",
       "      <td>Top Executives</td>\n",
       "      <td>minor</td>\n",
       "      <td>...</td>\n",
       "      <td>49.63</td>\n",
       "      <td>78.83</td>\n",
       "      <td>#</td>\n",
       "      <td>43,710</td>\n",
       "      <td>65,910</td>\n",
       "      <td>103,230</td>\n",
       "      <td>163,970</td>\n",
       "      <td>#</td>\n",
       "      <td>NaN</td>\n",
       "      <td>NaN</td>\n",
       "    </tr>\n",
       "    <tr>\n",
       "      <th>3</th>\n",
       "      <td>99</td>\n",
       "      <td>U.S.</td>\n",
       "      <td>1</td>\n",
       "      <td>0</td>\n",
       "      <td>Cross-industry</td>\n",
       "      <td>cross-industry</td>\n",
       "      <td>1235</td>\n",
       "      <td>11-1010</td>\n",
       "      <td>Chief Executives</td>\n",
       "      <td>broad</td>\n",
       "      <td>...</td>\n",
       "      <td>88.68</td>\n",
       "      <td>#</td>\n",
       "      <td>#</td>\n",
       "      <td>62,290</td>\n",
       "      <td>112,790</td>\n",
       "      <td>184,460</td>\n",
       "      <td>#</td>\n",
       "      <td>#</td>\n",
       "      <td>NaN</td>\n",
       "      <td>NaN</td>\n",
       "    </tr>\n",
       "    <tr>\n",
       "      <th>4</th>\n",
       "      <td>99</td>\n",
       "      <td>U.S.</td>\n",
       "      <td>1</td>\n",
       "      <td>0</td>\n",
       "      <td>Cross-industry</td>\n",
       "      <td>cross-industry</td>\n",
       "      <td>1235</td>\n",
       "      <td>11-1011</td>\n",
       "      <td>Chief Executives</td>\n",
       "      <td>detailed</td>\n",
       "      <td>...</td>\n",
       "      <td>88.68</td>\n",
       "      <td>#</td>\n",
       "      <td>#</td>\n",
       "      <td>62,290</td>\n",
       "      <td>112,790</td>\n",
       "      <td>184,460</td>\n",
       "      <td>#</td>\n",
       "      <td>#</td>\n",
       "      <td>NaN</td>\n",
       "      <td>NaN</td>\n",
       "    </tr>\n",
       "    <tr>\n",
       "      <th>...</th>\n",
       "      <td>...</td>\n",
       "      <td>...</td>\n",
       "      <td>...</td>\n",
       "      <td>...</td>\n",
       "      <td>...</td>\n",
       "      <td>...</td>\n",
       "      <td>...</td>\n",
       "      <td>...</td>\n",
       "      <td>...</td>\n",
       "      <td>...</td>\n",
       "      <td>...</td>\n",
       "      <td>...</td>\n",
       "      <td>...</td>\n",
       "      <td>...</td>\n",
       "      <td>...</td>\n",
       "      <td>...</td>\n",
       "      <td>...</td>\n",
       "      <td>...</td>\n",
       "      <td>...</td>\n",
       "      <td>...</td>\n",
       "      <td>...</td>\n",
       "    </tr>\n",
       "    <tr>\n",
       "      <th>1324</th>\n",
       "      <td>99</td>\n",
       "      <td>U.S.</td>\n",
       "      <td>1</td>\n",
       "      <td>0</td>\n",
       "      <td>Cross-industry</td>\n",
       "      <td>cross-industry</td>\n",
       "      <td>1235</td>\n",
       "      <td>53-7081</td>\n",
       "      <td>Refuse and Recyclable Material Collectors</td>\n",
       "      <td>detailed</td>\n",
       "      <td>...</td>\n",
       "      <td>18.19</td>\n",
       "      <td>24.15</td>\n",
       "      <td>32.39</td>\n",
       "      <td>22,780</td>\n",
       "      <td>28,880</td>\n",
       "      <td>37,840</td>\n",
       "      <td>50,240</td>\n",
       "      <td>67,370</td>\n",
       "      <td>NaN</td>\n",
       "      <td>NaN</td>\n",
       "    </tr>\n",
       "    <tr>\n",
       "      <th>1325</th>\n",
       "      <td>99</td>\n",
       "      <td>U.S.</td>\n",
       "      <td>1</td>\n",
       "      <td>0</td>\n",
       "      <td>Cross-industry</td>\n",
       "      <td>cross-industry</td>\n",
       "      <td>1235</td>\n",
       "      <td>53-7120</td>\n",
       "      <td>Tank Car, Truck, and Ship Loaders</td>\n",
       "      <td>broad</td>\n",
       "      <td>...</td>\n",
       "      <td>20.36</td>\n",
       "      <td>29.23</td>\n",
       "      <td>36.56</td>\n",
       "      <td>28,090</td>\n",
       "      <td>33,760</td>\n",
       "      <td>42,360</td>\n",
       "      <td>60,800</td>\n",
       "      <td>76,050</td>\n",
       "      <td>NaN</td>\n",
       "      <td>NaN</td>\n",
       "    </tr>\n",
       "    <tr>\n",
       "      <th>1326</th>\n",
       "      <td>99</td>\n",
       "      <td>U.S.</td>\n",
       "      <td>1</td>\n",
       "      <td>0</td>\n",
       "      <td>Cross-industry</td>\n",
       "      <td>cross-industry</td>\n",
       "      <td>1235</td>\n",
       "      <td>53-7121</td>\n",
       "      <td>Tank Car, Truck, and Ship Loaders</td>\n",
       "      <td>detailed</td>\n",
       "      <td>...</td>\n",
       "      <td>20.36</td>\n",
       "      <td>29.23</td>\n",
       "      <td>36.56</td>\n",
       "      <td>28,090</td>\n",
       "      <td>33,760</td>\n",
       "      <td>42,360</td>\n",
       "      <td>60,800</td>\n",
       "      <td>76,050</td>\n",
       "      <td>NaN</td>\n",
       "      <td>NaN</td>\n",
       "    </tr>\n",
       "    <tr>\n",
       "      <th>1327</th>\n",
       "      <td>99</td>\n",
       "      <td>U.S.</td>\n",
       "      <td>1</td>\n",
       "      <td>0</td>\n",
       "      <td>Cross-industry</td>\n",
       "      <td>cross-industry</td>\n",
       "      <td>1235</td>\n",
       "      <td>53-7190</td>\n",
       "      <td>Miscellaneous Material Moving Workers</td>\n",
       "      <td>broad</td>\n",
       "      <td>...</td>\n",
       "      <td>15.28</td>\n",
       "      <td>21.02</td>\n",
       "      <td>27.86</td>\n",
       "      <td>23,620</td>\n",
       "      <td>26,170</td>\n",
       "      <td>31,770</td>\n",
       "      <td>43,730</td>\n",
       "      <td>57,960</td>\n",
       "      <td>NaN</td>\n",
       "      <td>NaN</td>\n",
       "    </tr>\n",
       "    <tr>\n",
       "      <th>1328</th>\n",
       "      <td>99</td>\n",
       "      <td>U.S.</td>\n",
       "      <td>1</td>\n",
       "      <td>0</td>\n",
       "      <td>Cross-industry</td>\n",
       "      <td>cross-industry</td>\n",
       "      <td>1235</td>\n",
       "      <td>53-7199</td>\n",
       "      <td>Material Moving Workers, All Other</td>\n",
       "      <td>detailed</td>\n",
       "      <td>...</td>\n",
       "      <td>15.28</td>\n",
       "      <td>21.02</td>\n",
       "      <td>27.86</td>\n",
       "      <td>23,620</td>\n",
       "      <td>26,170</td>\n",
       "      <td>31,770</td>\n",
       "      <td>43,730</td>\n",
       "      <td>57,960</td>\n",
       "      <td>NaN</td>\n",
       "      <td>NaN</td>\n",
       "    </tr>\n",
       "  </tbody>\n",
       "</table>\n",
       "<p>1329 rows × 30 columns</p>\n",
       "</div>"
      ],
      "text/plain": [
       "      area area_title  area_type  naics     naics_title         i_group  \\\n",
       "0       99       U.S.          1      0  Cross-industry  cross-industry   \n",
       "1       99       U.S.          1      0  Cross-industry  cross-industry   \n",
       "2       99       U.S.          1      0  Cross-industry  cross-industry   \n",
       "3       99       U.S.          1      0  Cross-industry  cross-industry   \n",
       "4       99       U.S.          1      0  Cross-industry  cross-industry   \n",
       "...    ...        ...        ...    ...             ...             ...   \n",
       "1324    99       U.S.          1      0  Cross-industry  cross-industry   \n",
       "1325    99       U.S.          1      0  Cross-industry  cross-industry   \n",
       "1326    99       U.S.          1      0  Cross-industry  cross-industry   \n",
       "1327    99       U.S.          1      0  Cross-industry  cross-industry   \n",
       "1328    99       U.S.          1      0  Cross-industry  cross-industry   \n",
       "\n",
       "      own_code occ_code                                  occ_title   o_group  \\\n",
       "0         1235  00-0000                            All Occupations     total   \n",
       "1         1235  11-0000                     Management Occupations     major   \n",
       "2         1235  11-1000                             Top Executives     minor   \n",
       "3         1235  11-1010                           Chief Executives     broad   \n",
       "4         1235  11-1011                           Chief Executives  detailed   \n",
       "...        ...      ...                                        ...       ...   \n",
       "1324      1235  53-7081  Refuse and Recyclable Material Collectors  detailed   \n",
       "1325      1235  53-7120          Tank Car, Truck, and Ship Loaders     broad   \n",
       "1326      1235  53-7121          Tank Car, Truck, and Ship Loaders  detailed   \n",
       "1327      1235  53-7190      Miscellaneous Material Moving Workers     broad   \n",
       "1328      1235  53-7199         Material Moving Workers, All Other  detailed   \n",
       "\n",
       "      ... h_median  h_pct75  h_pct90  a_pct10  a_pct25 a_median  a_pct75  \\\n",
       "0     ...    19.14    30.88    48.57   21,530   27,080   39,810   64,240   \n",
       "1     ...    50.80    74.16        #   49,990   71,460  105,660  154,260   \n",
       "2     ...    49.63    78.83        #   43,710   65,910  103,230  163,970   \n",
       "3     ...    88.68        #        #   62,290  112,790  184,460        #   \n",
       "4     ...    88.68        #        #   62,290  112,790  184,460        #   \n",
       "...   ...      ...      ...      ...      ...      ...      ...      ...   \n",
       "1324  ...    18.19    24.15    32.39   22,780   28,880   37,840   50,240   \n",
       "1325  ...    20.36    29.23    36.56   28,090   33,760   42,360   60,800   \n",
       "1326  ...    20.36    29.23    36.56   28,090   33,760   42,360   60,800   \n",
       "1327  ...    15.28    21.02    27.86   23,620   26,170   31,770   43,730   \n",
       "1328  ...    15.28    21.02    27.86   23,620   26,170   31,770   43,730   \n",
       "\n",
       "      a_pct90 annual hourly  \n",
       "0     101,020    NaN    NaN  \n",
       "1           #    NaN    NaN  \n",
       "2           #    NaN    NaN  \n",
       "3           #    NaN    NaN  \n",
       "4           #    NaN    NaN  \n",
       "...       ...    ...    ...  \n",
       "1324   67,370    NaN    NaN  \n",
       "1325   76,050    NaN    NaN  \n",
       "1326   76,050    NaN    NaN  \n",
       "1327   57,960    NaN    NaN  \n",
       "1328   57,960    NaN    NaN  \n",
       "\n",
       "[1329 rows x 30 columns]"
      ]
     },
     "execution_count": 14,
     "metadata": {},
     "output_type": "execute_result"
    }
   ],
   "source": [
    "df_wages = pd.read_csv('../wages.csv')\n",
    "df_wages"
   ]
  },
  {
   "cell_type": "code",
   "execution_count": null,
   "metadata": {},
   "outputs": [],
   "source": [
    "def viz_age(df,code):\n",
    "    '''\n",
    "    @param: df with all different ages \n",
    "    \n",
    "    Shows graph of ages breakdown\n",
    "    @return None\n",
    "    \n",
    "    '''\n",
    "    \n",
    "    df = df[df['Occupation'] == occ]\n",
    "    median = float(df['Median age'].any())\n",
    "    df = df.iloc[:,2:9]\n",
    "    data = go.Bar(x = df.columns, y = df.values[0],marker_color = '#003f5c')\n",
    "    \n",
    "    layout = None\n",
    "    fig = go.Figure(data = data, layout=layout)\n",
    "    fig.show()\n",
    "    return median"
   ]
  }
 ],
 "metadata": {
  "kernelspec": {
   "display_name": "Python 3",
   "language": "python",
   "name": "python3"
  },
  "language_info": {
   "codemirror_mode": {
    "name": "ipython",
    "version": 3
   },
   "file_extension": ".py",
   "mimetype": "text/x-python",
   "name": "python",
   "nbconvert_exporter": "python",
   "pygments_lexer": "ipython3",
   "version": "3.7.6"
  }
 },
 "nbformat": 4,
 "nbformat_minor": 4
}
